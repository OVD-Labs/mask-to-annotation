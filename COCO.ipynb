{
 "cells": [
  {
   "cell_type": "code",
   "execution_count": 2,
   "metadata": {},
   "outputs": [],
   "source": [
    "import cv2\n",
    "import numpy as np\n",
    "import matplotlib.pyplot as plt\n",
    "import skimage.io\n",
    "import os\n",
    "import coco\n",
    "import yolo\n",
    "import vgg"
   ]
  },
  {
   "cell_type": "code",
   "execution_count": 3,
   "metadata": {},
   "outputs": [],
   "source": [
    "repo_dir = project_name = 'COTSDataset' \n",
    "part1_single_objects = os.path.join(repo_dir, \"Part 1 - Single Objects\")\n",
    "part2_multiple_objects = os.path.join(repo_dir, \"Part 2 - Multiple Objects\")\n",
    "part3_complex_background = os.path.join(repo_dir, \"Part 3 - Complex Background\")"
   ]
  },
  {
   "cell_type": "code",
   "execution_count": 4,
   "metadata": {},
   "outputs": [],
   "source": [
    "do_display = True\n",
    "do_save = False\n",
    "do_print = False\n",
    "\n",
    "# COCO\n",
    "coco_output_dir = \"COCO_annotations\"\n",
    "coco_color = (0, 255, 0)\n",
    "\n",
    "# YOLO\n",
    "yolo_output_dir = \"YOLO_annotations\"\n",
    "yolo_color = (0, 255, 0)\n",
    "\n",
    "# VGG\n",
    "vgg_output_dir = \"VGG_annotations\"\n",
    "vgg_color = 'r'"
   ]
  },
  {
   "cell_type": "code",
   "execution_count": 5,
   "metadata": {},
   "outputs": [],
   "source": [
    "def iou(annotation):\n",
    "    gt = annotation['image'][:, :, 0] > 0\n",
    "    annotation_mask = np.zeros((annotation['height'], annotation['width']), dtype=np.uint8)\n",
    "    cv2.drawContours(annotation_mask, annotation['contours'], -1, 255, -1)\n",
    "    # resize annotation mask to gt size\n",
    "    annotation_mask = cv2.resize(annotation_mask, (gt.shape[1], gt.shape[0]))\n",
    "\n",
    "    # plot both on each other transparently, one blue one red\n",
    "    # plt.figure()\n",
    "    # plt.rcParams['figure.figsize'] = [20, 10]\n",
    "    # plt.imshow(gt, cmap='Blues', alpha=0.5)\n",
    "    # plt.imshow(annotation_mask, cmap='Reds', alpha=0.5)\n",
    "    # plt.xticks([])\n",
    "    # plt.yticks([])\n",
    "    # plt.show()\n",
    "\n",
    "    intersection = np.logical_and(gt, annotation_mask)\n",
    "    union = np.logical_or(gt, annotation_mask)\n",
    "    return np.sum(intersection) / np.sum(union)"
   ]
  },
  {
   "cell_type": "code",
   "execution_count": 6,
   "metadata": {},
   "outputs": [],
   "source": [
    "# Import coco\n",
    "from pycocotools.coco import COCO\n",
    "from pycocotools import mask as maskUtils\n",
    "import skimage.io as io"
   ]
  },
  {
   "cell_type": "code",
   "execution_count": 7,
   "metadata": {},
   "outputs": [
    {
     "name": "stdout",
     "output_type": "stream",
     "text": [
      "loading annotations into memory...\n",
      "Done (t=24.47s)\n",
      "creating index...\n",
      "index created!\n"
     ]
    }
   ],
   "source": [
    "ann_file = 'Evaluation/instances_train2017.json'\n",
    "coco_data = COCO(ann_file)"
   ]
  },
  {
   "cell_type": "code",
   "execution_count": 8,
   "metadata": {},
   "outputs": [],
   "source": [
    "coco_annotations = coco_data.loadAnns(coco_data.getAnnIds())"
   ]
  },
  {
   "cell_type": "code",
   "execution_count": null,
   "metadata": {},
   "outputs": [],
   "source": [
    "# coco_annotations = coco_data.loadAnns(coco_data.getAnnIds())\n",
    "\n",
    "# # Merge annotations with same image id\n",
    "# merged_annotations = {}\n",
    "# for annotation in coco_annotations:\n",
    "#     # print(merged_annotations)\n",
    "#     if annotation['image_id'] in merged_annotations:\n",
    "#         merged_annotations[annotation['image_id']]['segmentation'].extend(annotation['segmentation'])\n",
    "#     else:\n",
    "#         merged_annotations[annotation['image_id']] = annotation"
   ]
  },
  {
   "cell_type": "code",
   "execution_count": 12,
   "metadata": {},
   "outputs": [],
   "source": [
    "from random import randint\n",
    "rand_id = randint(0, len(coco_annotations))"
   ]
  },
  {
   "cell_type": "code",
   "execution_count": 24,
   "metadata": {},
   "outputs": [],
   "source": [
    "import skimage.io"
   ]
  },
  {
   "cell_type": "code",
   "execution_count": 167,
   "metadata": {},
   "outputs": [
    {
     "name": "stdout",
     "output_type": "stream",
     "text": [
      "\n",
      " Annotating image:  000000573320.jpg\n",
      "Number of contours:  1\n",
      "\u001b[92m Succesfully saved image:  000000573320.jpg \u001b[0m\n",
      "\n",
      "\n",
      "------------------------------------------------------------------------------------------------------------------------\n"
     ]
    },
    {
     "ename": "AttributeError",
     "evalue": "module 'cv2' has no attribute 'LINE_AB'",
     "output_type": "error",
     "traceback": [
      "\u001b[1;31m---------------------------------------------------------------------------\u001b[0m",
      "\u001b[1;31mAttributeError\u001b[0m                            Traceback (most recent call last)",
      "\u001b[1;32m<ipython-input-167-ceb3b852b0ff>\u001b[0m in \u001b[0;36m<module>\u001b[1;34m\u001b[0m\n\u001b[0;32m     13\u001b[0m \u001b[1;33m\u001b[0m\u001b[0m\n\u001b[0;32m     14\u001b[0m \u001b[0mannotated_image\u001b[0m \u001b[1;33m=\u001b[0m \u001b[0mnp\u001b[0m\u001b[1;33m.\u001b[0m\u001b[0mzeros\u001b[0m\u001b[1;33m(\u001b[0m\u001b[1;33m(\u001b[0m\u001b[0mannotation\u001b[0m\u001b[1;33m[\u001b[0m\u001b[1;34m'height'\u001b[0m\u001b[1;33m]\u001b[0m\u001b[1;33m,\u001b[0m \u001b[0mannotation\u001b[0m\u001b[1;33m[\u001b[0m\u001b[1;34m'width'\u001b[0m\u001b[1;33m]\u001b[0m\u001b[1;33m,\u001b[0m \u001b[1;36m3\u001b[0m\u001b[1;33m)\u001b[0m\u001b[1;33m,\u001b[0m \u001b[0mdtype\u001b[0m\u001b[1;33m=\u001b[0m\u001b[0mnp\u001b[0m\u001b[1;33m.\u001b[0m\u001b[0muint8\u001b[0m\u001b[1;33m)\u001b[0m\u001b[1;33m\u001b[0m\u001b[1;33m\u001b[0m\u001b[0m\n\u001b[1;32m---> 15\u001b[1;33m \u001b[0mcv2\u001b[0m\u001b[1;33m.\u001b[0m\u001b[0mdrawContours\u001b[0m\u001b[1;33m(\u001b[0m\u001b[0mannotated_image\u001b[0m\u001b[1;33m,\u001b[0m \u001b[0mannotation\u001b[0m\u001b[1;33m[\u001b[0m\u001b[1;34m'contours'\u001b[0m\u001b[1;33m]\u001b[0m\u001b[1;33m,\u001b[0m \u001b[1;33m-\u001b[0m\u001b[1;36m1\u001b[0m\u001b[1;33m,\u001b[0m \u001b[1;33m(\u001b[0m\u001b[1;36m255\u001b[0m\u001b[1;33m,\u001b[0m \u001b[1;36m0\u001b[0m\u001b[1;33m,\u001b[0m \u001b[1;36m0\u001b[0m\u001b[1;33m)\u001b[0m\u001b[1;33m,\u001b[0m \u001b[1;36m3\u001b[0m\u001b[1;33m,\u001b[0m \u001b[0mcv2\u001b[0m\u001b[1;33m.\u001b[0m\u001b[0mLINE_AB\u001b[0m\u001b[1;33m)\u001b[0m\u001b[1;33m\u001b[0m\u001b[1;33m\u001b[0m\u001b[0m\n\u001b[0m",
      "\u001b[1;31mAttributeError\u001b[0m: module 'cv2' has no attribute 'LINE_AB'"
     ]
    }
   ],
   "source": [
    "id_ = coco_annotations[rand_id]['image_id']\n",
    "name = coco_data.loadImgs(id_)[0]['file_name']\n",
    "image = coco_data.annToMask(coco_annotations[rand_id])\n",
    "\n",
    "original = skimage.io.imread(coco_data.loadImgs(id_)[0]['coco_url'])\n",
    "\n",
    "\n",
    "im = (id_, name, image, 'COCOEvaluation', 'COCO', './Evaluation/COCO/')\n",
    "\n",
    "annotation = coco.annotate(im, do_display=False, do_save=True, do_cvt=False, annotation_color=coco_color, epsilon=0.005, configuration=coco.PA)\n",
    "\n",
    "contours = annotation['contours']\n",
    "\n",
    "annotated_image = np.zeros((annotation['height'], annotation['width'], 3), dtype=np.uint8)\n",
    "cv2.drawContours(annotated_image, annotation['contours'], -1, (255, 0, 0), 3, cv2.LINE_AA)"
   ]
  },
  {
   "cell_type": "code",
   "execution_count": 18,
   "metadata": {},
   "outputs": [],
   "source": [
    "import matplotlib.pyplot as plt"
   ]
  },
  {
   "cell_type": "code",
   "execution_count": 166,
   "metadata": {},
   "outputs": [
    {
     "name": "stderr",
     "output_type": "stream",
     "text": [
      "c:\\Users\\matth\\anaconda3\\envs\\coco\\lib\\site-packages\\ipykernel_launcher.py:40: UserWarning: Matplotlib is currently using agg, which is a non-GUI backend, so cannot show the figure.\n"
     ]
    }
   ],
   "source": [
    "original_mask = image\n",
    "\n",
    "plt.figure()\n",
    "plt.rcParams['figure.figsize'] = [20, 10]\n",
    "plt.subplot(131)\n",
    "plt.imshow(original)\n",
    "plt.xticks([])\n",
    "plt.yticks([])\n",
    "plt.title('Original Image', fontsize=20)\n",
    "plt.subplot(132)\n",
    "image_rgba = cv2.cvtColor(original_mask, cv2.COLOR_GRAY2RGBA)\n",
    "alpha = np.where(image == 0, 0, 255)\n",
    "image_rgba[:, :, 0] = 0\n",
    "image_rgba[:, :, 1] = 0\n",
    "image_rgba[:, :, 2] = 255 \n",
    "image_rgba[:, :, 3] = alpha\n",
    "\n",
    "plt.imshow(original, alpha=1)\n",
    "plt.imshow(image_rgba, alpha=0.5)\n",
    "\n",
    "plt.xticks([])\n",
    "plt.yticks([])\n",
    "plt.title('Original Mask', fontsize=20)\n",
    "plt.subplot(133)\n",
    "# plot contours\n",
    "plt.imshow(original_mask, cmap='gray')\n",
    "# plt.imshow(annotated_image)\n",
    "annotated_rgba = cv2.cvtColor(annotated_image, cv2.COLOR_BGR2RGBA)\n",
    "alpha = np.where(annotated_image == 0, 0, 255)\n",
    "annotated_rgba[:, :, 0] = 255\n",
    "annotated_rgba[:, :, 1] = 0\n",
    "annotated_rgba[:, :, 2] = 0\n",
    "annotated_rgba[:, :, 3] = alpha[:, :, 0]\n",
    "plt.imshow(annotated_rgba, alpha=1)\n",
    "\n",
    "\n",
    "plt.xticks([])\n",
    "plt.yticks([])\n",
    "plt.title('Annotated Mask', fontsize=20)\n",
    "plt.show()\n",
    "plt.savefig('test.jpeg')"
   ]
  },
  {
   "cell_type": "code",
   "execution_count": 44,
   "metadata": {},
   "outputs": [
    {
     "data": {
      "text/plain": [
       "array([[[0, 0, 0],\n",
       "        [0, 0, 0],\n",
       "        [0, 0, 0],\n",
       "        ...,\n",
       "        [0, 0, 0],\n",
       "        [0, 0, 0],\n",
       "        [0, 0, 0]],\n",
       "\n",
       "       [[0, 0, 0],\n",
       "        [0, 0, 0],\n",
       "        [0, 0, 0],\n",
       "        ...,\n",
       "        [0, 0, 0],\n",
       "        [0, 0, 0],\n",
       "        [0, 0, 0]],\n",
       "\n",
       "       [[0, 0, 0],\n",
       "        [0, 0, 0],\n",
       "        [0, 0, 0],\n",
       "        ...,\n",
       "        [0, 0, 0],\n",
       "        [0, 0, 0],\n",
       "        [0, 0, 0]],\n",
       "\n",
       "       ...,\n",
       "\n",
       "       [[0, 0, 0],\n",
       "        [0, 0, 0],\n",
       "        [0, 0, 0],\n",
       "        ...,\n",
       "        [0, 0, 0],\n",
       "        [0, 0, 0],\n",
       "        [0, 0, 0]],\n",
       "\n",
       "       [[0, 0, 0],\n",
       "        [0, 0, 0],\n",
       "        [0, 0, 0],\n",
       "        ...,\n",
       "        [0, 0, 0],\n",
       "        [0, 0, 0],\n",
       "        [0, 0, 0]],\n",
       "\n",
       "       [[0, 0, 0],\n",
       "        [0, 0, 0],\n",
       "        [0, 0, 0],\n",
       "        ...,\n",
       "        [0, 0, 0],\n",
       "        [0, 0, 0],\n",
       "        [0, 0, 0]]], dtype=uint8)"
      ]
     },
     "execution_count": 44,
     "metadata": {},
     "output_type": "execute_result"
    }
   ],
   "source": [
    "cv2.drawContours(annotated_image, annotation['contours'], -1, (255, 0, 0), 3, cv2.LINE_AA)"
   ]
  },
  {
   "cell_type": "code",
   "execution_count": null,
   "metadata": {},
   "outputs": [
    {
     "data": {
      "text/plain": [
       "[]"
      ]
     },
     "execution_count": 42,
     "metadata": {},
     "output_type": "execute_result"
    }
   ],
   "source": [
    "annotation['contours']"
   ]
  }
 ],
 "metadata": {
  "kernelspec": {
   "display_name": "Python 3.6.13 ('coco')",
   "language": "python",
   "name": "python3"
  },
  "language_info": {
   "codemirror_mode": {
    "name": "ipython",
    "version": 3
   },
   "file_extension": ".py",
   "mimetype": "text/x-python",
   "name": "python",
   "nbconvert_exporter": "python",
   "pygments_lexer": "ipython3",
   "version": "3.6.13"
  },
  "orig_nbformat": 4,
  "vscode": {
   "interpreter": {
    "hash": "8985379cc137063dd0de237b7b7b8346889aff6edaf8a0ed61b320fa88bc9a9f"
   }
  }
 },
 "nbformat": 4,
 "nbformat_minor": 2
}
